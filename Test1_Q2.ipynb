{
  "nbformat": 4,
  "nbformat_minor": 0,
  "metadata": {
    "colab": {
      "name": "Test1_Q2.ipynb",
      "provenance": [],
      "authorship_tag": "ABX9TyPUIcrKeaEf3hWIRSbytPzD",
      "include_colab_link": true
    },
    "kernelspec": {
      "name": "python3",
      "display_name": "Python 3"
    },
    "language_info": {
      "name": "python"
    }
  },
  "cells": [
    {
      "cell_type": "markdown",
      "metadata": {
        "id": "view-in-github",
        "colab_type": "text"
      },
      "source": [
        "<a href=\"https://colab.research.google.com/github/gattuprathiba/Assessment-Questions-/blob/main/Test1_Q2.ipynb\" target=\"_parent\"><img src=\"https://colab.research.google.com/assets/colab-badge.svg\" alt=\"Open In Colab\"/></a>"
      ]
    },
    {
      "cell_type": "code",
      "metadata": {
        "colab": {
          "base_uri": "https://localhost:8080/"
        },
        "id": "qPQRiVgZE64Q",
        "outputId": "ba75226e-bd4e-454f-f0c8-004b14c644a4"
      },
      "source": [
        "def encrypt(text,s):\n",
        " \n",
        "    result = \"\"\n",
        " \n",
        " \n",
        "    # traverse text\n",
        " \n",
        "    for i in range(len(text)):\n",
        " \n",
        "        char = text[i]\n",
        " \n",
        " \n",
        "        # Encrypt uppercase characters\n",
        " \n",
        "        if (char.isupper()):\n",
        " \n",
        "            result += chr((ord(char) + s-65) % 26 + 65)\n",
        " \n",
        " \n",
        "        # Encrypt lowercase characters\n",
        " \n",
        "        else:\n",
        " \n",
        "            result += chr((ord(char) + s - 97) % 26 + 97)\n",
        " \n",
        " \n",
        "    return result\n",
        " \n",
        "#check the above function\n",
        " \n",
        "text = input(\"Enter your Plain Text: \")\n",
        " \n",
        "s = int(input(\"Enter the Key: \"))\n",
        " \n",
        "print(\"The encrypted Text is: \" + encrypt(text,s))"
      ],
      "execution_count": null,
      "outputs": [
        {
          "output_type": "stream",
          "text": [
            "Enter your Plain Text:  All The Best \n",
            "Enter the Key:  1\n",
            "The encrypted Text is: oBmmoUifoCftuo\n"
          ],
          "name": "stdout"
        }
      ]
    },
    {
      "cell_type": "code",
      "metadata": {
        "id": "CKzFpOfzHTuc"
      },
      "source": [
        ""
      ],
      "execution_count": null,
      "outputs": []
    }
  ]
}