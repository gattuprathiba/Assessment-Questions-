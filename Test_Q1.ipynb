{
  "nbformat": 4,
  "nbformat_minor": 0,
  "metadata": {
    "colab": {
      "name": "Test Q1.ipynb",
      "provenance": [],
      "authorship_tag": "ABX9TyPBj0qpx3mr89RTUkEy8llw",
      "include_colab_link": true
    },
    "kernelspec": {
      "name": "python3",
      "display_name": "Python 3"
    },
    "language_info": {
      "name": "python"
    }
  },
  "cells": [
    {
      "cell_type": "markdown",
      "metadata": {
        "id": "view-in-github",
        "colab_type": "text"
      },
      "source": [
        "<a href=\"https://colab.research.google.com/github/gattuprathiba/Assessment-Questions-/blob/main/Test_Q1.ipynb\" target=\"_parent\"><img src=\"https://colab.research.google.com/assets/colab-badge.svg\" alt=\"Open In Colab\"/></a>"
      ]
    },
    {
      "cell_type": "code",
      "metadata": {
        "id": "-NFTzehSgPcZ",
        "colab": {
          "base_uri": "https://localhost:8080/"
        },
        "outputId": "fbfd6daa-ff52-4c81-a1a0-e4a4691ad189"
      },
      "source": [
        "weight=int(input())\n",
        "\n",
        "# range(0,7000):\n",
        "if (weight>7000):\n",
        "    print(\"Overloded\")\n",
        "elif (weight>=1 and weight<=2000):\n",
        "    print(\"Time Estimated:25 Minutes\")\n",
        "elif (weight>=2001 and weight<=4000):\n",
        "    print(\"Time Estimated:35 Minutes\")\n",
        "elif (weight>4001 and weight<=7000):\n",
        "    print(\"Time Estimated:45 Minutes\")\n",
        "else:\n",
        "    print(\"INVALID INPUT\")"
      ],
      "execution_count": null,
      "outputs": [
        {
          "output_type": "stream",
          "text": [
            "2000\n",
            "Time Estimated:25 Minutes\n"
          ],
          "name": "stdout"
        }
      ]
    }
  ]
}